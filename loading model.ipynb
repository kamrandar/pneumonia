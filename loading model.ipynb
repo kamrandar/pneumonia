{
 "cells": [
  {
   "cell_type": "code",
   "execution_count": null,
   "metadata": {},
   "outputs": [],
   "source": [
    "# General libraries\n",
    "import os\n",
    "import numpy as np\n",
    "import pandas as pd \n",
    "import random\n",
    "import cv2\n",
    "import matplotlib.pyplot as plt\n",
    "%matplotlib inline\n",
    "\n",
    "# Deep learning libraries\n",
    "#import keras.backend as K\n",
    "import tensorflow as tf\n",
    "from tensorflow.keras.models import Model,load_model, Sequential\n",
    "from tensorflow.keras.layers import Input, Dense, Flatten, Dropout, BatchNormalization\n",
    "from tensorflow.keras.layers import Conv2D, SeparableConv2D, MaxPooling2D, LeakyReLU, Activation\n",
    "from tensorflow.keras.optimizers import Adam\n",
    "from tensorflow.keras.preprocessing.image import ImageDataGenerator\n",
    "from tensorflow.keras.callbacks import ModelCheckpoint, ReduceLROnPlateau, EarlyStopping\n",
    "from sklearn.utils import class_weight \n",
    "\n",
    "# Setting seeds for reproducibility\n",
    "seed = 232\n",
    "from tensorflow.keras import layers\n",
    "from tensorflow.compat.v1 import ConfigProto,InteractiveSession\n",
    "np.random.seed(seed)\n",
    "tf.set_random_seed(seed)\n",
    "#tf.random.set_random_seed(seed)\n",
    "print(tf.__version__)\n",
    "# load weights into new model\n",
    "model_str = 'CNN_Pneumonia_256imagesize_E500_B32'\n",
    "model = tf.keras.models.load_model(model_str+\".h5\", custom_objects={'tf': tf}, compile=False)\n",
    "model.load_weights(model_str+\".h5\")\n",
    "print(\"Loaded model from disk\")\n",
    " "
   ]
  },
  {
   "cell_type": "code",
   "execution_count": null,
   "metadata": {},
   "outputs": [],
   "source": [
    "print('\\n# Evaluate on test data')\n",
    "results = model.evaluate(test_data, test_labels, batch_size=32)\n",
    "print('test loss, test acc:', results)"
   ]
  }
 ],
 "metadata": {
  "kernelspec": {
   "display_name": "conda_tensorflow_p36",
   "language": "python",
   "name": "conda_tensorflow_p36"
  },
  "language_info": {
   "codemirror_mode": {
    "name": "ipython",
    "version": 3
   },
   "file_extension": ".py",
   "mimetype": "text/x-python",
   "name": "python",
   "nbconvert_exporter": "python",
   "pygments_lexer": "ipython3",
   "version": "3.6.5"
  }
 },
 "nbformat": 4,
 "nbformat_minor": 4
}
